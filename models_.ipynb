{
 "cells": [
  {
   "cell_type": "markdown",
   "id": "b7efcf42",
   "metadata": {},
   "source": [
    "# Imports"
   ]
  },
  {
   "cell_type": "code",
   "execution_count": 1,
   "id": "5d52c253",
   "metadata": {},
   "outputs": [],
   "source": [
    "import pandas as pd\n",
    "import numpy as np\n",
    "import matplotlib.pyplot as plt\n",
    "from sklearn.model_selection import train_test_split\n",
    "from sklearn.ensemble import RandomForestRegressor\n",
    "from sklearn.metrics import mean_squared_error, mean_absolute_error\n",
    "from sklearn.linear_model import LinearRegression\n",
    "from sklearn.tree import DecisionTreeRegressor\n",
    "from sklearn.model_selection import GridSearchCV\n",
    "from xgboost import XGBRegressor\n",
    "from sklearn.metrics import r2_score\n",
    "from sklearn.neural_network import MLPRegressor"
   ]
  },
  {
   "cell_type": "markdown",
   "id": "94082afe",
   "metadata": {},
   "source": [
    "# Data preparation"
   ]
  },
  {
   "cell_type": "markdown",
   "id": "37436d88",
   "metadata": {},
   "source": [
    "Read data"
   ]
  },
  {
   "cell_type": "code",
   "execution_count": 2,
   "id": "13d0cd94",
   "metadata": {},
   "outputs": [],
   "source": [
    "data = pd.read_excel('data.xlsx')"
   ]
  },
  {
   "cell_type": "markdown",
   "id": "e0ac5e47",
   "metadata": {},
   "source": [
    "Sorting by year (avoids misshifting)"
   ]
  },
  {
   "cell_type": "code",
   "execution_count": 3,
   "id": "5d678255",
   "metadata": {},
   "outputs": [],
   "source": [
    "data = data.sort_values(by='Year')"
   ]
  },
  {
   "cell_type": "markdown",
   "id": "57c2ab11",
   "metadata": {},
   "source": [
    "Define target columns for model and add new column for previous year pending cases"
   ]
  },
  {
   "cell_type": "code",
   "execution_count": 4,
   "id": "d5dc9ed4",
   "metadata": {},
   "outputs": [],
   "source": [
    "target_specific = [column for column in data.columns if 'CC' in column and column != 'CC_all']\n",
    "target_all = 'CC_all'\n",
    "for pc_column in [col for col in data.columns if 'PC' in col]:\n",
    "    data[pc_column + '_prev_year'] = data.groupby(['Court', 'Municipality', 'Bench'])[pc_column].shift(1)\n"
   ]
  },
  {
   "cell_type": "markdown",
   "id": "ce6f0d0f",
   "metadata": {},
   "source": [
    "Drop Incoming Cases and Pending Cases columns (unknown when predicting)"
   ]
  },
  {
   "cell_type": "code",
   "execution_count": 5,
   "id": "5d4e674c",
   "metadata": {},
   "outputs": [],
   "source": [
    "data = data.drop(columns=[col for col in data.columns if 'PC_all' in col or 'IC' in col or ('PC' in col and '_prev_year' not in col)])"
   ]
  },
  {
   "cell_type": "markdown",
   "id": "bad95fa2",
   "metadata": {},
   "source": [
    "Encode categorical columns"
   ]
  },
  {
   "cell_type": "code",
   "execution_count": 6,
   "id": "9d2baf27",
   "metadata": {},
   "outputs": [],
   "source": [
    "categorical_columns = ['Court', 'Municipality', 'Bench']\n",
    "data = pd.get_dummies(data, columns=categorical_columns, drop_first=True)"
   ]
  },
  {
   "cell_type": "markdown",
   "id": "81cb8e78",
   "metadata": {},
   "source": [
    "Drop 'Informatic People' variable - only 1 entry in 2017, with value 1"
   ]
  },
  {
   "cell_type": "code",
   "execution_count": 7,
   "id": "67a436a1",
   "metadata": {},
   "outputs": [],
   "source": [
    "data = data.drop(columns=['Informatic People'])"
   ]
  },
  {
   "cell_type": "markdown",
   "id": "cff6d1c1",
   "metadata": {},
   "source": [
    "Drop Justice Officials - sum of 6 prior columns"
   ]
  },
  {
   "cell_type": "code",
   "execution_count": 8,
   "id": "d92b80bc",
   "metadata": {},
   "outputs": [],
   "source": [
    "data = data.drop(columns=['Justice Officials'])"
   ]
  },
  {
   "cell_type": "markdown",
   "id": "066a8869",
   "metadata": {},
   "source": [
    "Train test split"
   ]
  },
  {
   "cell_type": "code",
   "execution_count": 9,
   "id": "9f2feee3",
   "metadata": {},
   "outputs": [],
   "source": [
    "data = data.drop(columns=['Year'])"
   ]
  },
  {
   "cell_type": "code",
   "execution_count": 10,
   "id": "26eda386",
   "metadata": {},
   "outputs": [],
   "source": [
    "data = data.dropna(axis=0, how='any')\n",
    "\n",
    "\n",
    "train_X, test_X, train_y, test_y = train_test_split(data.drop(columns=target_specific+[target_all]), data[target_specific], test_size=0.2, random_state=42)"
   ]
  },
  {
   "cell_type": "code",
   "execution_count": 11,
   "id": "720d432f",
   "metadata": {},
   "outputs": [],
   "source": [
    "train_X_lr = train_X.sample(frac=0.33, random_state=42)\n",
    "train_y_lr = train_y.loc[train_X_lr.index]\n",
    "\n",
    "train_X_rf = train_X.drop(train_X_lr.index).sample(frac=0.5, random_state=42)\n",
    "train_y_rf = train_y.loc[train_X_rf.index]\n",
    "\n",
    "train_X_xgb = train_X.drop(train_X_lr.index).drop(train_X_rf.index)\n",
    "train_y_xgb = train_y.loc[train_X_xgb.index]"
   ]
  },
  {
   "cell_type": "code",
   "execution_count": 15,
   "id": "56f4c297",
   "metadata": {},
   "outputs": [],
   "source": [
    "test_y = test.loc[test['Year'].isin([2021,2022]), target_specific]\n",
    "test_X = test.loc[test['Year'].isin([2021,2022])].drop(columns=target_specific + ['Year'] + [target_all])\n",
    "\n",
    "train_y_lr = train.loc[train['Year'].isin([2016, 2021]), target_specific]\n",
    "train_X_lr = train.loc[train['Year'].isin([2016, 2021])].drop(columns=target_specific + ['Year'] + [target_all])\n",
    "\n",
    "train_y_rf = train.loc[train['Year'].isin([2017, 2020]), target_specific]\n",
    "train_X_rf = train.loc[train['Year'].isin([2017, 2020])].drop(columns=target_specific + ['Year'] + [target_all])\n",
    "\n",
    "train_y_xgb = train.loc[train['Year'].isin([2018, 2019]), target_specific]\n",
    "train_X_xgb = train.loc[train['Year'].isin([2018, 2019])].drop(columns=target_specific + ['Year'] + [target_all])\n"
   ]
  },
  {
   "cell_type": "markdown",
   "id": "e520f198",
   "metadata": {},
   "source": [
    "Features"
   ]
  },
  {
   "cell_type": "code",
   "execution_count": 11,
   "id": "7cfecf20",
   "metadata": {},
   "outputs": [
    {
     "name": "stdout",
     "output_type": "stream",
     "text": [
      "Court\n",
      "Municipality\n",
      "Bench\n",
      "Judges\n",
      "Justice Secretary\n",
      "Law Clerck\n",
      "Auxiliar Clerck\n",
      "Administrative/Technical People\n",
      "Operational/Auxiliar People\n",
      "PC_Civil_prev_year\n",
      "PC_Criminal_prev_year\n",
      "PC_labor_prev_year\n",
      "PC_criminal_labor_prev_year\n",
      "PC_tutelar_prev_year\n",
      "PC_militar_prev_year\n"
     ]
    }
   ],
   "source": [
    "print('Court')\n",
    "print('Municipality')\n",
    "print('Bench')\n",
    "for col in train_X.columns:\n",
    "    print(col) if 'Court' not in col and 'Municipality' not in col and 'Bench' not in col else None"
   ]
  },
  {
   "cell_type": "markdown",
   "id": "ed25cac0",
   "metadata": {},
   "source": [
    "# First models"
   ]
  },
  {
   "cell_type": "markdown",
   "id": "80181b41",
   "metadata": {},
   "source": [
    "Linear Regression"
   ]
  },
  {
   "cell_type": "code",
   "execution_count": 12,
   "id": "ee0d6210",
   "metadata": {},
   "outputs": [
    {
     "name": "stdout",
     "output_type": "stream",
     "text": [
      "Mean Squared Error: 97540.49385853451, Mean Absolute Error: 80.13553578991953, R2 Score: 0.9029555676722651\n"
     ]
    }
   ],
   "source": [
    "lr = LinearRegression()\n",
    "\n",
    "lr.fit(train_X, train_y)\n",
    "\n",
    "predictions_lr = lr.predict(test_X)\n",
    "predictions_lr = predictions_lr.round(0)\n",
    "\n",
    "\n",
    "mse_lr = mean_squared_error(test_y, predictions_lr)\n",
    "mae_lr = mean_absolute_error(test_y, predictions_lr)\n",
    "r2_lr = r2_score(test_y, predictions_lr)\n",
    "\n",
    "print(f\"Mean Squared Error: {mse_lr}, Mean Absolute Error: {mae_lr}, R2 Score: {r2_lr}\")"
   ]
  },
  {
   "cell_type": "markdown",
   "id": "6a031d19",
   "metadata": {},
   "source": [
    "Decision Tree"
   ]
  },
  {
   "cell_type": "code",
   "execution_count": null,
   "id": "fb5c2faf",
   "metadata": {},
   "outputs": [
    {
     "name": "stdout",
     "output_type": "stream",
     "text": [
      "Mean Squared Error: 133589.08831003812, Mean Absolute Error: 47.48814061838204, R2 Score: 0.8604446716860022\n"
     ]
    }
   ],
   "source": [
    "dt = DecisionTreeRegressor(random_state=42)\n",
    "\n",
    "dt.fit(train_X, train_y)\n",
    "\n",
    "predictions_dt = dt.predict(test_X)\n",
    "predictions_dt = predictions_dt.round(0)\n",
    "\n",
    "mse_dt = mean_squared_error(test_y, predictions_dt)\n",
    "mae_dt = mean_absolute_error(test_y, predictions_dt)\n",
    "r2_dt = r2_score(test_y, predictions_dt)\n",
    "\n",
    "print(f\"Mean Squared Error: {mse_dt}, Mean Absolute Error: {mae_dt}, R2 Score: {r2_dt}\")"
   ]
  },
  {
   "cell_type": "code",
   "execution_count": 28,
   "id": "e14486a1",
   "metadata": {},
   "outputs": [
    {
     "name": "stdout",
     "output_type": "stream",
     "text": [
      "239\n",
      "239\n",
      "6\n"
     ]
    },
    {
     "data": {
      "text/plain": [
       "36"
      ]
     },
     "execution_count": 28,
     "metadata": {},
     "output_type": "execute_result"
    }
   ],
   "source": [
    "print(dt.max_features_)\n",
    "print(dt.n_features_in_)\n",
    "print(dt.n_outputs_)\n",
    "dt.tree_.max_depth"
   ]
  },
  {
   "cell_type": "markdown",
   "id": "5b0c27f4",
   "metadata": {},
   "source": [
    "XGBoost"
   ]
  },
  {
   "cell_type": "code",
   "execution_count": 20,
   "id": "cfbb78e8",
   "metadata": {},
   "outputs": [
    {
     "name": "stdout",
     "output_type": "stream",
     "text": [
      "Mean Squared Error: 103715.0, Mean Absolute Error: 37.90321731567383, R2 Score: 0.9178037047386169\n"
     ]
    }
   ],
   "source": [
    "xgb = XGBRegressor(random_state=42)\n",
    "\n",
    "xgb.fit(train_X, train_y)\n",
    "\n",
    "predictions_xgb = xgb.predict(test_X)\n",
    "predictions_xgb = predictions_xgb.round(0)\n",
    "\n",
    "mse_xgb = mean_squared_error(test_y, predictions_xgb)\n",
    "mae_xgb = mean_absolute_error(test_y, predictions_xgb)\n",
    "r2_xgb = r2_score(test_y, predictions_xgb)\n",
    "\n",
    "print(f\"Mean Squared Error: {mse_xgb}, Mean Absolute Error: {mae_xgb}, R2 Score: {r2_xgb}\")"
   ]
  },
  {
   "cell_type": "markdown",
   "id": "63500b9f",
   "metadata": {},
   "source": [
    "Random Forest"
   ]
  },
  {
   "cell_type": "code",
   "execution_count": 21,
   "id": "4ecba53c",
   "metadata": {},
   "outputs": [
    {
     "name": "stdout",
     "output_type": "stream",
     "text": [
      "Mean Squared Error: 97812.69822109275, Mean Absolute Error: 38.352181279119016, R2 Score: 0.9067521314632149\n"
     ]
    }
   ],
   "source": [
    "rf = RandomForestRegressor(random_state=42)\n",
    "\n",
    "rf.fit(train_X, train_y)\n",
    "\n",
    "predictions_rf = rf.predict(test_X)\n",
    "predictions_rf = predictions_rf.round(0)\n",
    "\n",
    "mse_rf = mean_squared_error(test_y, predictions_rf)\n",
    "mae_rf = mean_absolute_error(test_y, predictions_rf)\n",
    "r2_rf = r2_score(test_y, predictions_rf)\n",
    "\n",
    "print(f\"Mean Squared Error: {mse_rf}, Mean Absolute Error: {mae_rf}, R2 Score: {r2_rf}\")"
   ]
  },
  {
   "cell_type": "code",
   "execution_count": 24,
   "id": "2bed1101",
   "metadata": {},
   "outputs": [
    {
     "name": "stdout",
     "output_type": "stream",
     "text": [
      "239\n",
      "6\n"
     ]
    },
    {
     "data": {
      "text/plain": [
       "100"
      ]
     },
     "execution_count": 24,
     "metadata": {},
     "output_type": "execute_result"
    }
   ],
   "source": [
    "print(rf.n_features_in_)\n",
    "print(rf.n_outputs_)\n",
    "len(rf.estimators_)"
   ]
  },
  {
   "cell_type": "code",
   "execution_count": 26,
   "id": "1db3f242",
   "metadata": {},
   "outputs": [
    {
     "name": "stdout",
     "output_type": "stream",
     "text": [
      "41\n"
     ]
    }
   ],
   "source": [
    "maxd= 0\n",
    "for t in rf.estimators_:\n",
    "    if t.tree_.max_depth > maxd:\n",
    "        maxd = t.tree_.max_depth\n",
    "print(maxd)"
   ]
  },
  {
   "cell_type": "markdown",
   "id": "182e8727",
   "metadata": {},
   "source": [
    "Multi Layer Perceptron"
   ]
  },
  {
   "cell_type": "code",
   "execution_count": 17,
   "id": "3d51c56a",
   "metadata": {},
   "outputs": [
    {
     "name": "stdout",
     "output_type": "stream",
     "text": [
      "Mean Squared Error: 107097.0897924608, Mean Absolute Error: 58.303261329944945, R2 Score: -6.502883494811679\n"
     ]
    }
   ],
   "source": [
    "mlp = MLPRegressor(random_state=42, max_iter=1000)\n",
    "\n",
    "mlp.fit(train_X, train_y)\n",
    "\n",
    "predictions_mlp = mlp.predict(test_X)\n",
    "predictions_mlp = predictions_mlp.round(0)\n",
    "\n",
    "mse_mlp = mean_squared_error(test_y, predictions_mlp)\n",
    "mae_mlp = mean_absolute_error(test_y, predictions_mlp)\n",
    "r2_mlp = r2_score(test_y, predictions_mlp)\n",
    "\n",
    "print(f\"Mean Squared Error: {mse_mlp}, Mean Absolute Error: {mae_mlp}, R2 Score: {r2_mlp}\")"
   ]
  },
  {
   "cell_type": "markdown",
   "id": "1557d9a8",
   "metadata": {},
   "source": [
    "Check correlations between the errors of each model"
   ]
  },
  {
   "cell_type": "code",
   "execution_count": 17,
   "id": "7c35ac45",
   "metadata": {},
   "outputs": [],
   "source": [
    "residual_lr = test_y.values - predictions_lr\n",
    "residual_xgb = test_y.values - predictions_xgb\n",
    "residual_rf = test_y.values - predictions_rf"
   ]
  },
  {
   "cell_type": "code",
   "execution_count": 18,
   "id": "4860ba1d",
   "metadata": {},
   "outputs": [
    {
     "name": "stdout",
     "output_type": "stream",
     "text": [
      "Correlation matrix for CC_Civil:\n",
      "                   Linear Regression   XGBoost  Random Forest\n",
      "Linear Regression           1.000000  0.418172       0.520765\n",
      "XGBoost                     0.418172  1.000000       0.898200\n",
      "Random Forest               0.520765  0.898200       1.000000\n",
      "\n",
      "\n",
      "Correlation matrix for CC_Criminal:\n",
      "                   Linear Regression   XGBoost  Random Forest\n",
      "Linear Regression           1.000000  0.075718       0.489982\n",
      "XGBoost                     0.075718  1.000000       0.460033\n",
      "Random Forest               0.489982  0.460033       1.000000\n",
      "\n",
      "\n",
      "Correlation matrix for CC_labor:\n",
      "                   Linear Regression   XGBoost  Random Forest\n",
      "Linear Regression           1.000000  0.753833       0.827440\n",
      "XGBoost                     0.753833  1.000000       0.870847\n",
      "Random Forest               0.827440  0.870847       1.000000\n",
      "\n",
      "\n",
      "Correlation matrix for CC_criminal_labor:\n",
      "                   Linear Regression   XGBoost  Random Forest\n",
      "Linear Regression           1.000000  0.682451       0.740395\n",
      "XGBoost                     0.682451  1.000000       0.934985\n",
      "Random Forest               0.740395  0.934985       1.000000\n",
      "\n",
      "\n",
      "Correlation matrix for CC_tutelar:\n",
      "                   Linear Regression   XGBoost  Random Forest\n",
      "Linear Regression           1.000000  0.483351       0.664134\n",
      "XGBoost                     0.483351  1.000000       0.830704\n",
      "Random Forest               0.664134  0.830704       1.000000\n",
      "\n",
      "\n",
      "Correlation matrix for CC_militar:\n",
      "                   Linear Regression   XGBoost  Random Forest\n",
      "Linear Regression           1.000000  0.569970       0.068406\n",
      "XGBoost                     0.569970  1.000000      -0.220217\n",
      "Random Forest               0.068406 -0.220217       1.000000\n",
      "\n",
      "\n",
      "Average Correlations Across Targets:\n",
      "('Linear Regression', 'XGBoost'): 0.497\n",
      "('Linear Regression', 'Random Forest'): 0.552\n",
      "('XGBoost', 'Random Forest'): 0.629\n"
     ]
    }
   ],
   "source": [
    "correlation_results = {}\n",
    "\n",
    "for i, target in enumerate(target_specific):\n",
    "    # Build a DataFrame for the residuals for this target\n",
    "    df_target = pd.DataFrame({\n",
    "        'Linear Regression': residual_lr[:, i],\n",
    "        'XGBoost': residual_xgb[:, i],\n",
    "        'Random Forest': residual_rf[:, i]\n",
    "    })\n",
    "\n",
    "    correlation_results[target] = df_target.corr()\n",
    "\n",
    "for target, corr_matrix in correlation_results.items():\n",
    "    print(f\"Correlation matrix for {target}:\")\n",
    "    print(corr_matrix)\n",
    "    print(\"\\n\")\n",
    "\n",
    "\n",
    "model_pairs = [\n",
    "    ('Linear Regression', 'XGBoost'),\n",
    "    ('Linear Regression', 'Random Forest'),\n",
    "    ('XGBoost', 'Random Forest')\n",
    "]\n",
    "\n",
    "avg_correlations = {pair: [] for pair in model_pairs}\n",
    "\n",
    "for i, target in enumerate(target_specific):\n",
    "    df_target = pd.DataFrame({\n",
    "        'Linear Regression': residual_lr[:, i],\n",
    "        'XGBoost': residual_xgb[:, i],\n",
    "        'Random Forest': residual_rf[:, i]\n",
    "    })\n",
    "    corr = df_target.corr()\n",
    "    for pair in model_pairs:\n",
    "        avg_correlations[pair].append(corr.loc[pair[0], pair[1]])\n",
    "\n",
    "\n",
    "print(\"Average Correlations Across Targets:\")\n",
    "for pair, values in avg_correlations.items():\n",
    "    avg_corr = np.mean(values)\n",
    "    print(f\"{pair}: {avg_corr:.3f}\")"
   ]
  },
  {
   "cell_type": "markdown",
   "id": "13473d20",
   "metadata": {},
   "source": [
    "Best models: XGBoost and Random Forests"
   ]
  },
  {
   "cell_type": "markdown",
   "id": "b2f3b060",
   "metadata": {},
   "source": [
    "# Hyper parameter tuning"
   ]
  },
  {
   "cell_type": "markdown",
   "id": "8b3dc6f6",
   "metadata": {},
   "source": [
    "Random Forest"
   ]
  },
  {
   "cell_type": "code",
   "execution_count": 19,
   "id": "20070b9f",
   "metadata": {},
   "outputs": [
    {
     "name": "stdout",
     "output_type": "stream",
     "text": [
      "Best number of estimators: 150\n",
      "Best max depth: 17\n"
     ]
    }
   ],
   "source": [
    "# Define the parameter grid\n",
    "param_grid = {'n_estimators': range(10,201,10), 'max_depth': range(1, 21)}\n",
    "\n",
    "# Initialize the Random Forest Regressor\n",
    "rf = RandomForestRegressor(random_state=42)\n",
    "\n",
    "# Perform Grid Search with Cross-Validation\n",
    "grid_search_rf = GridSearchCV(estimator=rf, param_grid=param_grid, cv=5, scoring='neg_mean_squared_error', n_jobs=-1)\n",
    "grid_search_rf.fit(train_X, train_y)\n",
    "\n",
    "# Get the best number of estimators\n",
    "best_rf = grid_search_rf.best_estimator_\n",
    "best_n_estimators = grid_search_rf.best_params_['n_estimators']\n",
    "best_max_depth = grid_search_rf.best_params_['max_depth']\n",
    "print(f\"Best number of estimators: {best_n_estimators}\")\n",
    "print(f\"Best max depth: {best_max_depth}\")"
   ]
  },
  {
   "cell_type": "code",
   "execution_count": 21,
   "id": "af0bc46e",
   "metadata": {},
   "outputs": [
    {
     "name": "stdout",
     "output_type": "stream",
     "text": [
      "Mean Squared Error: 101820.5675597646, Mean Absolute Error: 39.17148055688731, R2 Score: 0.9073725601697918\n"
     ]
    }
   ],
   "source": [
    "best_rf.predict(test_X)\n",
    "\n",
    "mse_brf = mean_squared_error(test_y, best_rf.predict(test_X))\n",
    "mae_brf = mean_absolute_error(test_y, best_rf.predict(test_X))\n",
    "r2_brf = r2_score(test_y, best_rf.predict(test_X))\n",
    "\n",
    "print(f\"Mean Squared Error: {mse_brf}, Mean Absolute Error: {mae_brf}, R2 Score: {r2_brf}\")"
   ]
  },
  {
   "cell_type": "markdown",
   "id": "00554d09",
   "metadata": {},
   "source": [
    "XGBoost"
   ]
  },
  {
   "cell_type": "code",
   "execution_count": 22,
   "id": "c05a478c",
   "metadata": {},
   "outputs": [
    {
     "data": {
      "text/plain": [
       "{'max_depth': 5, 'n_estimators': 10}"
      ]
     },
     "execution_count": 22,
     "metadata": {},
     "output_type": "execute_result"
    }
   ],
   "source": [
    "param_grid_xgb = {\n",
    "    'n_estimators': range(10, 101, 5),\n",
    "    'max_depth': [3, 5, 7],\n",
    "}\n",
    "\n",
    "xgb = XGBRegressor(random_state=42)\n",
    "\n",
    "grid_search_xgb = GridSearchCV(estimator=xgb, param_grid=param_grid_xgb, cv=5, scoring='neg_mean_squared_error', n_jobs=-1)\n",
    "grid_search_xgb.fit(train_X, train_y)\n",
    "\n",
    "best_xgb = grid_search_xgb.best_estimator_\n",
    "grid_search_xgb.best_params_"
   ]
  },
  {
   "cell_type": "code",
   "execution_count": 23,
   "id": "5eea690c",
   "metadata": {},
   "outputs": [
    {
     "name": "stdout",
     "output_type": "stream",
     "text": [
      "Mean Squared Error: 107589.7109375, Mean Absolute Error: 46.88821029663086, R2 Score: -0.8458577990531921\n"
     ]
    }
   ],
   "source": [
    "best_xgb.predict(test_X)\n",
    "\n",
    "mse_bxgb = mean_squared_error(test_y, best_xgb.predict(test_X))\n",
    "mae_bxgb = mean_absolute_error(test_y, best_xgb.predict(test_X))\n",
    "r2_bxgb = r2_score(test_y, best_xgb.predict(test_X))\n",
    "\n",
    "print(f\"Mean Squared Error: {mse_bxgb}, Mean Absolute Error: {mae_bxgb}, R2 Score: {r2_bxgb}\")"
   ]
  },
  {
   "cell_type": "markdown",
   "id": "de61251e",
   "metadata": {},
   "source": [
    "Same takeaway"
   ]
  },
  {
   "cell_type": "markdown",
   "id": "6d65a0f1",
   "metadata": {},
   "source": [
    "# Ensemble"
   ]
  },
  {
   "cell_type": "markdown",
   "id": "42bd092c",
   "metadata": {},
   "source": [
    "Stacking"
   ]
  },
  {
   "cell_type": "code",
   "execution_count": 194,
   "id": "80a2094c",
   "metadata": {},
   "outputs": [
    {
     "ename": "KeyboardInterrupt",
     "evalue": "",
     "output_type": "error",
     "traceback": [
      "\u001b[1;31m---------------------------------------------------------------------------\u001b[0m",
      "\u001b[1;31mKeyboardInterrupt\u001b[0m                         Traceback (most recent call last)",
      "Cell \u001b[1;32mIn[194], line 27\u001b[0m\n\u001b[0;32m     20\u001b[0m stacking_regressor \u001b[38;5;241m=\u001b[39m StackingRegressor(estimators\u001b[38;5;241m=\u001b[39mestimators,\n\u001b[0;32m     21\u001b[0m                                        final_estimator\u001b[38;5;241m=\u001b[39mmeta_model,\n\u001b[0;32m     22\u001b[0m                                        cv\u001b[38;5;241m=\u001b[39m\u001b[38;5;241m5\u001b[39m,\n\u001b[0;32m     23\u001b[0m                                        n_jobs\u001b[38;5;241m=\u001b[39m\u001b[38;5;241m-\u001b[39m\u001b[38;5;241m1\u001b[39m)\n\u001b[0;32m     25\u001b[0m multi_output_regressor \u001b[38;5;241m=\u001b[39m MultiOutputRegressor(stacking_regressor)\n\u001b[1;32m---> 27\u001b[0m \u001b[43mmulti_output_regressor\u001b[49m\u001b[38;5;241;43m.\u001b[39;49m\u001b[43mfit\u001b[49m\u001b[43m(\u001b[49m\u001b[43mdata_train_X\u001b[49m\u001b[43m,\u001b[49m\u001b[43m \u001b[49m\u001b[43mdata_train_y\u001b[49m\u001b[43m)\u001b[49m\n\u001b[0;32m     29\u001b[0m predictions_stacking \u001b[38;5;241m=\u001b[39m multi_output_regressor\u001b[38;5;241m.\u001b[39mpredict(data_test_X)\n\u001b[0;32m     30\u001b[0m predictions_stacking \u001b[38;5;241m=\u001b[39m predictions_stacking\u001b[38;5;241m.\u001b[39mround(\u001b[38;5;241m0\u001b[39m)\n",
      "File \u001b[1;32m~\\AppData\\Roaming\\Python\\Python313\\site-packages\\sklearn\\base.py:1389\u001b[0m, in \u001b[0;36m_fit_context.<locals>.decorator.<locals>.wrapper\u001b[1;34m(estimator, *args, **kwargs)\u001b[0m\n\u001b[0;32m   1382\u001b[0m     estimator\u001b[38;5;241m.\u001b[39m_validate_params()\n\u001b[0;32m   1384\u001b[0m \u001b[38;5;28;01mwith\u001b[39;00m config_context(\n\u001b[0;32m   1385\u001b[0m     skip_parameter_validation\u001b[38;5;241m=\u001b[39m(\n\u001b[0;32m   1386\u001b[0m         prefer_skip_nested_validation \u001b[38;5;129;01mor\u001b[39;00m global_skip_validation\n\u001b[0;32m   1387\u001b[0m     )\n\u001b[0;32m   1388\u001b[0m ):\n\u001b[1;32m-> 1389\u001b[0m     \u001b[38;5;28;01mreturn\u001b[39;00m \u001b[43mfit_method\u001b[49m\u001b[43m(\u001b[49m\u001b[43mestimator\u001b[49m\u001b[43m,\u001b[49m\u001b[43m \u001b[49m\u001b[38;5;241;43m*\u001b[39;49m\u001b[43margs\u001b[49m\u001b[43m,\u001b[49m\u001b[43m \u001b[49m\u001b[38;5;241;43m*\u001b[39;49m\u001b[38;5;241;43m*\u001b[39;49m\u001b[43mkwargs\u001b[49m\u001b[43m)\u001b[49m\n",
      "File \u001b[1;32m~\\AppData\\Roaming\\Python\\Python313\\site-packages\\sklearn\\multioutput.py:274\u001b[0m, in \u001b[0;36m_MultiOutputEstimator.fit\u001b[1;34m(self, X, y, sample_weight, **fit_params)\u001b[0m\n\u001b[0;32m    271\u001b[0m     \u001b[38;5;28;01mif\u001b[39;00m sample_weight \u001b[38;5;129;01mis\u001b[39;00m \u001b[38;5;129;01mnot\u001b[39;00m \u001b[38;5;28;01mNone\u001b[39;00m:\n\u001b[0;32m    272\u001b[0m         routed_params\u001b[38;5;241m.\u001b[39mestimator\u001b[38;5;241m.\u001b[39mfit[\u001b[38;5;124m\"\u001b[39m\u001b[38;5;124msample_weight\u001b[39m\u001b[38;5;124m\"\u001b[39m] \u001b[38;5;241m=\u001b[39m sample_weight\n\u001b[1;32m--> 274\u001b[0m \u001b[38;5;28mself\u001b[39m\u001b[38;5;241m.\u001b[39mestimators_ \u001b[38;5;241m=\u001b[39m \u001b[43mParallel\u001b[49m\u001b[43m(\u001b[49m\u001b[43mn_jobs\u001b[49m\u001b[38;5;241;43m=\u001b[39;49m\u001b[38;5;28;43mself\u001b[39;49m\u001b[38;5;241;43m.\u001b[39;49m\u001b[43mn_jobs\u001b[49m\u001b[43m)\u001b[49m\u001b[43m(\u001b[49m\n\u001b[0;32m    275\u001b[0m \u001b[43m    \u001b[49m\u001b[43mdelayed\u001b[49m\u001b[43m(\u001b[49m\u001b[43m_fit_estimator\u001b[49m\u001b[43m)\u001b[49m\u001b[43m(\u001b[49m\n\u001b[0;32m    276\u001b[0m \u001b[43m        \u001b[49m\u001b[38;5;28;43mself\u001b[39;49m\u001b[38;5;241;43m.\u001b[39;49m\u001b[43mestimator\u001b[49m\u001b[43m,\u001b[49m\u001b[43m \u001b[49m\u001b[43mX\u001b[49m\u001b[43m,\u001b[49m\u001b[43m \u001b[49m\u001b[43my\u001b[49m\u001b[43m[\u001b[49m\u001b[43m:\u001b[49m\u001b[43m,\u001b[49m\u001b[43m \u001b[49m\u001b[43mi\u001b[49m\u001b[43m]\u001b[49m\u001b[43m,\u001b[49m\u001b[43m \u001b[49m\u001b[38;5;241;43m*\u001b[39;49m\u001b[38;5;241;43m*\u001b[39;49m\u001b[43mrouted_params\u001b[49m\u001b[38;5;241;43m.\u001b[39;49m\u001b[43mestimator\u001b[49m\u001b[38;5;241;43m.\u001b[39;49m\u001b[43mfit\u001b[49m\n\u001b[0;32m    277\u001b[0m \u001b[43m    \u001b[49m\u001b[43m)\u001b[49m\n\u001b[0;32m    278\u001b[0m \u001b[43m    \u001b[49m\u001b[38;5;28;43;01mfor\u001b[39;49;00m\u001b[43m \u001b[49m\u001b[43mi\u001b[49m\u001b[43m \u001b[49m\u001b[38;5;129;43;01min\u001b[39;49;00m\u001b[43m \u001b[49m\u001b[38;5;28;43mrange\u001b[39;49m\u001b[43m(\u001b[49m\u001b[43my\u001b[49m\u001b[38;5;241;43m.\u001b[39;49m\u001b[43mshape\u001b[49m\u001b[43m[\u001b[49m\u001b[38;5;241;43m1\u001b[39;49m\u001b[43m]\u001b[49m\u001b[43m)\u001b[49m\n\u001b[0;32m    279\u001b[0m \u001b[43m\u001b[49m\u001b[43m)\u001b[49m\n\u001b[0;32m    281\u001b[0m \u001b[38;5;28;01mif\u001b[39;00m \u001b[38;5;28mhasattr\u001b[39m(\u001b[38;5;28mself\u001b[39m\u001b[38;5;241m.\u001b[39mestimators_[\u001b[38;5;241m0\u001b[39m], \u001b[38;5;124m\"\u001b[39m\u001b[38;5;124mn_features_in_\u001b[39m\u001b[38;5;124m\"\u001b[39m):\n\u001b[0;32m    282\u001b[0m     \u001b[38;5;28mself\u001b[39m\u001b[38;5;241m.\u001b[39mn_features_in_ \u001b[38;5;241m=\u001b[39m \u001b[38;5;28mself\u001b[39m\u001b[38;5;241m.\u001b[39mestimators_[\u001b[38;5;241m0\u001b[39m]\u001b[38;5;241m.\u001b[39mn_features_in_\n",
      "File \u001b[1;32m~\\AppData\\Roaming\\Python\\Python313\\site-packages\\sklearn\\utils\\parallel.py:77\u001b[0m, in \u001b[0;36mParallel.__call__\u001b[1;34m(self, iterable)\u001b[0m\n\u001b[0;32m     72\u001b[0m config \u001b[38;5;241m=\u001b[39m get_config()\n\u001b[0;32m     73\u001b[0m iterable_with_config \u001b[38;5;241m=\u001b[39m (\n\u001b[0;32m     74\u001b[0m     (_with_config(delayed_func, config), args, kwargs)\n\u001b[0;32m     75\u001b[0m     \u001b[38;5;28;01mfor\u001b[39;00m delayed_func, args, kwargs \u001b[38;5;129;01min\u001b[39;00m iterable\n\u001b[0;32m     76\u001b[0m )\n\u001b[1;32m---> 77\u001b[0m \u001b[38;5;28;01mreturn\u001b[39;00m \u001b[38;5;28;43msuper\u001b[39;49m\u001b[43m(\u001b[49m\u001b[43m)\u001b[49m\u001b[38;5;241;43m.\u001b[39;49m\u001b[38;5;21;43m__call__\u001b[39;49m\u001b[43m(\u001b[49m\u001b[43miterable_with_config\u001b[49m\u001b[43m)\u001b[49m\n",
      "File \u001b[1;32m~\\AppData\\Roaming\\Python\\Python313\\site-packages\\joblib\\parallel.py:1918\u001b[0m, in \u001b[0;36mParallel.__call__\u001b[1;34m(self, iterable)\u001b[0m\n\u001b[0;32m   1916\u001b[0m     output \u001b[38;5;241m=\u001b[39m \u001b[38;5;28mself\u001b[39m\u001b[38;5;241m.\u001b[39m_get_sequential_output(iterable)\n\u001b[0;32m   1917\u001b[0m     \u001b[38;5;28mnext\u001b[39m(output)\n\u001b[1;32m-> 1918\u001b[0m     \u001b[38;5;28;01mreturn\u001b[39;00m output \u001b[38;5;28;01mif\u001b[39;00m \u001b[38;5;28mself\u001b[39m\u001b[38;5;241m.\u001b[39mreturn_generator \u001b[38;5;28;01melse\u001b[39;00m \u001b[38;5;28;43mlist\u001b[39;49m\u001b[43m(\u001b[49m\u001b[43moutput\u001b[49m\u001b[43m)\u001b[49m\n\u001b[0;32m   1920\u001b[0m \u001b[38;5;66;03m# Let's create an ID that uniquely identifies the current call. If the\u001b[39;00m\n\u001b[0;32m   1921\u001b[0m \u001b[38;5;66;03m# call is interrupted early and that the same instance is immediately\u001b[39;00m\n\u001b[0;32m   1922\u001b[0m \u001b[38;5;66;03m# re-used, this id will be used to prevent workers that were\u001b[39;00m\n\u001b[0;32m   1923\u001b[0m \u001b[38;5;66;03m# concurrently finalizing a task from the previous call to run the\u001b[39;00m\n\u001b[0;32m   1924\u001b[0m \u001b[38;5;66;03m# callback.\u001b[39;00m\n\u001b[0;32m   1925\u001b[0m \u001b[38;5;28;01mwith\u001b[39;00m \u001b[38;5;28mself\u001b[39m\u001b[38;5;241m.\u001b[39m_lock:\n",
      "File \u001b[1;32m~\\AppData\\Roaming\\Python\\Python313\\site-packages\\joblib\\parallel.py:1847\u001b[0m, in \u001b[0;36mParallel._get_sequential_output\u001b[1;34m(self, iterable)\u001b[0m\n\u001b[0;32m   1845\u001b[0m \u001b[38;5;28mself\u001b[39m\u001b[38;5;241m.\u001b[39mn_dispatched_batches \u001b[38;5;241m+\u001b[39m\u001b[38;5;241m=\u001b[39m \u001b[38;5;241m1\u001b[39m\n\u001b[0;32m   1846\u001b[0m \u001b[38;5;28mself\u001b[39m\u001b[38;5;241m.\u001b[39mn_dispatched_tasks \u001b[38;5;241m+\u001b[39m\u001b[38;5;241m=\u001b[39m \u001b[38;5;241m1\u001b[39m\n\u001b[1;32m-> 1847\u001b[0m res \u001b[38;5;241m=\u001b[39m \u001b[43mfunc\u001b[49m\u001b[43m(\u001b[49m\u001b[38;5;241;43m*\u001b[39;49m\u001b[43margs\u001b[49m\u001b[43m,\u001b[49m\u001b[43m \u001b[49m\u001b[38;5;241;43m*\u001b[39;49m\u001b[38;5;241;43m*\u001b[39;49m\u001b[43mkwargs\u001b[49m\u001b[43m)\u001b[49m\n\u001b[0;32m   1848\u001b[0m \u001b[38;5;28mself\u001b[39m\u001b[38;5;241m.\u001b[39mn_completed_tasks \u001b[38;5;241m+\u001b[39m\u001b[38;5;241m=\u001b[39m \u001b[38;5;241m1\u001b[39m\n\u001b[0;32m   1849\u001b[0m \u001b[38;5;28mself\u001b[39m\u001b[38;5;241m.\u001b[39mprint_progress()\n",
      "File \u001b[1;32m~\\AppData\\Roaming\\Python\\Python313\\site-packages\\sklearn\\utils\\parallel.py:139\u001b[0m, in \u001b[0;36m_FuncWrapper.__call__\u001b[1;34m(self, *args, **kwargs)\u001b[0m\n\u001b[0;32m    137\u001b[0m     config \u001b[38;5;241m=\u001b[39m {}\n\u001b[0;32m    138\u001b[0m \u001b[38;5;28;01mwith\u001b[39;00m config_context(\u001b[38;5;241m*\u001b[39m\u001b[38;5;241m*\u001b[39mconfig):\n\u001b[1;32m--> 139\u001b[0m     \u001b[38;5;28;01mreturn\u001b[39;00m \u001b[38;5;28;43mself\u001b[39;49m\u001b[38;5;241;43m.\u001b[39;49m\u001b[43mfunction\u001b[49m\u001b[43m(\u001b[49m\u001b[38;5;241;43m*\u001b[39;49m\u001b[43margs\u001b[49m\u001b[43m,\u001b[49m\u001b[43m \u001b[49m\u001b[38;5;241;43m*\u001b[39;49m\u001b[38;5;241;43m*\u001b[39;49m\u001b[43mkwargs\u001b[49m\u001b[43m)\u001b[49m\n",
      "File \u001b[1;32m~\\AppData\\Roaming\\Python\\Python313\\site-packages\\sklearn\\multioutput.py:63\u001b[0m, in \u001b[0;36m_fit_estimator\u001b[1;34m(estimator, X, y, sample_weight, **fit_params)\u001b[0m\n\u001b[0;32m     61\u001b[0m     estimator\u001b[38;5;241m.\u001b[39mfit(X, y, sample_weight\u001b[38;5;241m=\u001b[39msample_weight, \u001b[38;5;241m*\u001b[39m\u001b[38;5;241m*\u001b[39mfit_params)\n\u001b[0;32m     62\u001b[0m \u001b[38;5;28;01melse\u001b[39;00m:\n\u001b[1;32m---> 63\u001b[0m     \u001b[43mestimator\u001b[49m\u001b[38;5;241;43m.\u001b[39;49m\u001b[43mfit\u001b[49m\u001b[43m(\u001b[49m\u001b[43mX\u001b[49m\u001b[43m,\u001b[49m\u001b[43m \u001b[49m\u001b[43my\u001b[49m\u001b[43m,\u001b[49m\u001b[43m \u001b[49m\u001b[38;5;241;43m*\u001b[39;49m\u001b[38;5;241;43m*\u001b[39;49m\u001b[43mfit_params\u001b[49m\u001b[43m)\u001b[49m\n\u001b[0;32m     64\u001b[0m \u001b[38;5;28;01mreturn\u001b[39;00m estimator\n",
      "File \u001b[1;32m~\\AppData\\Roaming\\Python\\Python313\\site-packages\\sklearn\\utils\\validation.py:63\u001b[0m, in \u001b[0;36m_deprecate_positional_args.<locals>._inner_deprecate_positional_args.<locals>.inner_f\u001b[1;34m(*args, **kwargs)\u001b[0m\n\u001b[0;32m     61\u001b[0m extra_args \u001b[38;5;241m=\u001b[39m \u001b[38;5;28mlen\u001b[39m(args) \u001b[38;5;241m-\u001b[39m \u001b[38;5;28mlen\u001b[39m(all_args)\n\u001b[0;32m     62\u001b[0m \u001b[38;5;28;01mif\u001b[39;00m extra_args \u001b[38;5;241m<\u001b[39m\u001b[38;5;241m=\u001b[39m \u001b[38;5;241m0\u001b[39m:\n\u001b[1;32m---> 63\u001b[0m     \u001b[38;5;28;01mreturn\u001b[39;00m \u001b[43mf\u001b[49m\u001b[43m(\u001b[49m\u001b[38;5;241;43m*\u001b[39;49m\u001b[43margs\u001b[49m\u001b[43m,\u001b[49m\u001b[43m \u001b[49m\u001b[38;5;241;43m*\u001b[39;49m\u001b[38;5;241;43m*\u001b[39;49m\u001b[43mkwargs\u001b[49m\u001b[43m)\u001b[49m\n\u001b[0;32m     65\u001b[0m \u001b[38;5;66;03m# extra_args > 0\u001b[39;00m\n\u001b[0;32m     66\u001b[0m args_msg \u001b[38;5;241m=\u001b[39m [\n\u001b[0;32m     67\u001b[0m     \u001b[38;5;124m\"\u001b[39m\u001b[38;5;132;01m{}\u001b[39;00m\u001b[38;5;124m=\u001b[39m\u001b[38;5;132;01m{}\u001b[39;00m\u001b[38;5;124m\"\u001b[39m\u001b[38;5;241m.\u001b[39mformat(name, arg)\n\u001b[0;32m     68\u001b[0m     \u001b[38;5;28;01mfor\u001b[39;00m name, arg \u001b[38;5;129;01min\u001b[39;00m \u001b[38;5;28mzip\u001b[39m(kwonly_args[:extra_args], args[\u001b[38;5;241m-\u001b[39mextra_args:])\n\u001b[0;32m     69\u001b[0m ]\n",
      "File \u001b[1;32m~\\AppData\\Roaming\\Python\\Python313\\site-packages\\sklearn\\ensemble\\_stacking.py:1063\u001b[0m, in \u001b[0;36mStackingRegressor.fit\u001b[1;34m(self, X, y, sample_weight, **fit_params)\u001b[0m\n\u001b[0;32m   1061\u001b[0m \u001b[38;5;28;01mif\u001b[39;00m sample_weight \u001b[38;5;129;01mis\u001b[39;00m \u001b[38;5;129;01mnot\u001b[39;00m \u001b[38;5;28;01mNone\u001b[39;00m:\n\u001b[0;32m   1062\u001b[0m     fit_params[\u001b[38;5;124m\"\u001b[39m\u001b[38;5;124msample_weight\u001b[39m\u001b[38;5;124m\"\u001b[39m] \u001b[38;5;241m=\u001b[39m sample_weight\n\u001b[1;32m-> 1063\u001b[0m \u001b[38;5;28;01mreturn\u001b[39;00m \u001b[38;5;28;43msuper\u001b[39;49m\u001b[43m(\u001b[49m\u001b[43m)\u001b[49m\u001b[38;5;241;43m.\u001b[39;49m\u001b[43mfit\u001b[49m\u001b[43m(\u001b[49m\u001b[43mX\u001b[49m\u001b[43m,\u001b[49m\u001b[43m \u001b[49m\u001b[43my\u001b[49m\u001b[43m,\u001b[49m\u001b[43m \u001b[49m\u001b[38;5;241;43m*\u001b[39;49m\u001b[38;5;241;43m*\u001b[39;49m\u001b[43mfit_params\u001b[49m\u001b[43m)\u001b[49m\n",
      "File \u001b[1;32m~\\AppData\\Roaming\\Python\\Python313\\site-packages\\sklearn\\base.py:1389\u001b[0m, in \u001b[0;36m_fit_context.<locals>.decorator.<locals>.wrapper\u001b[1;34m(estimator, *args, **kwargs)\u001b[0m\n\u001b[0;32m   1382\u001b[0m     estimator\u001b[38;5;241m.\u001b[39m_validate_params()\n\u001b[0;32m   1384\u001b[0m \u001b[38;5;28;01mwith\u001b[39;00m config_context(\n\u001b[0;32m   1385\u001b[0m     skip_parameter_validation\u001b[38;5;241m=\u001b[39m(\n\u001b[0;32m   1386\u001b[0m         prefer_skip_nested_validation \u001b[38;5;129;01mor\u001b[39;00m global_skip_validation\n\u001b[0;32m   1387\u001b[0m     )\n\u001b[0;32m   1388\u001b[0m ):\n\u001b[1;32m-> 1389\u001b[0m     \u001b[38;5;28;01mreturn\u001b[39;00m \u001b[43mfit_method\u001b[49m\u001b[43m(\u001b[49m\u001b[43mestimator\u001b[49m\u001b[43m,\u001b[49m\u001b[43m \u001b[49m\u001b[38;5;241;43m*\u001b[39;49m\u001b[43margs\u001b[49m\u001b[43m,\u001b[49m\u001b[43m \u001b[49m\u001b[38;5;241;43m*\u001b[39;49m\u001b[38;5;241;43m*\u001b[39;49m\u001b[43mkwargs\u001b[49m\u001b[43m)\u001b[49m\n",
      "File \u001b[1;32m~\\AppData\\Roaming\\Python\\Python313\\site-packages\\sklearn\\ensemble\\_stacking.py:212\u001b[0m, in \u001b[0;36m_BaseStacking.fit\u001b[1;34m(self, X, y, **fit_params)\u001b[0m\n\u001b[0;32m    207\u001b[0m             \u001b[38;5;28mself\u001b[39m\u001b[38;5;241m.\u001b[39mestimators_\u001b[38;5;241m.\u001b[39mappend(estimator)\n\u001b[0;32m    208\u001b[0m \u001b[38;5;28;01melse\u001b[39;00m:\n\u001b[0;32m    209\u001b[0m     \u001b[38;5;66;03m# Fit the base estimators on the whole training data. Those\u001b[39;00m\n\u001b[0;32m    210\u001b[0m     \u001b[38;5;66;03m# base estimators will be used in transform, predict, and\u001b[39;00m\n\u001b[0;32m    211\u001b[0m     \u001b[38;5;66;03m# predict_proba. They are exposed publicly.\u001b[39;00m\n\u001b[1;32m--> 212\u001b[0m     \u001b[38;5;28mself\u001b[39m\u001b[38;5;241m.\u001b[39mestimators_ \u001b[38;5;241m=\u001b[39m \u001b[43mParallel\u001b[49m\u001b[43m(\u001b[49m\u001b[43mn_jobs\u001b[49m\u001b[38;5;241;43m=\u001b[39;49m\u001b[38;5;28;43mself\u001b[39;49m\u001b[38;5;241;43m.\u001b[39;49m\u001b[43mn_jobs\u001b[49m\u001b[43m)\u001b[49m\u001b[43m(\u001b[49m\n\u001b[0;32m    213\u001b[0m \u001b[43m        \u001b[49m\u001b[43mdelayed\u001b[49m\u001b[43m(\u001b[49m\u001b[43m_fit_single_estimator\u001b[49m\u001b[43m)\u001b[49m\u001b[43m(\u001b[49m\n\u001b[0;32m    214\u001b[0m \u001b[43m            \u001b[49m\u001b[43mclone\u001b[49m\u001b[43m(\u001b[49m\u001b[43mest\u001b[49m\u001b[43m)\u001b[49m\u001b[43m,\u001b[49m\u001b[43m \u001b[49m\u001b[43mX\u001b[49m\u001b[43m,\u001b[49m\u001b[43m \u001b[49m\u001b[43my\u001b[49m\u001b[43m,\u001b[49m\u001b[43m \u001b[49m\u001b[43mrouted_params\u001b[49m\u001b[43m[\u001b[49m\u001b[43mname\u001b[49m\u001b[43m]\u001b[49m\u001b[43m[\u001b[49m\u001b[38;5;124;43m\"\u001b[39;49m\u001b[38;5;124;43mfit\u001b[39;49m\u001b[38;5;124;43m\"\u001b[39;49m\u001b[43m]\u001b[49m\n\u001b[0;32m    215\u001b[0m \u001b[43m        \u001b[49m\u001b[43m)\u001b[49m\n\u001b[0;32m    216\u001b[0m \u001b[43m        \u001b[49m\u001b[38;5;28;43;01mfor\u001b[39;49;00m\u001b[43m \u001b[49m\u001b[43mname\u001b[49m\u001b[43m,\u001b[49m\u001b[43m \u001b[49m\u001b[43mest\u001b[49m\u001b[43m \u001b[49m\u001b[38;5;129;43;01min\u001b[39;49;00m\u001b[43m \u001b[49m\u001b[38;5;28;43mzip\u001b[39;49m\u001b[43m(\u001b[49m\u001b[43mnames\u001b[49m\u001b[43m,\u001b[49m\u001b[43m \u001b[49m\u001b[43mall_estimators\u001b[49m\u001b[43m)\u001b[49m\n\u001b[0;32m    217\u001b[0m \u001b[43m        \u001b[49m\u001b[38;5;28;43;01mif\u001b[39;49;00m\u001b[43m \u001b[49m\u001b[43mest\u001b[49m\u001b[43m \u001b[49m\u001b[38;5;241;43m!=\u001b[39;49m\u001b[43m \u001b[49m\u001b[38;5;124;43m\"\u001b[39;49m\u001b[38;5;124;43mdrop\u001b[39;49m\u001b[38;5;124;43m\"\u001b[39;49m\n\u001b[0;32m    218\u001b[0m \u001b[43m    \u001b[49m\u001b[43m)\u001b[49m\n\u001b[0;32m    220\u001b[0m \u001b[38;5;28mself\u001b[39m\u001b[38;5;241m.\u001b[39mnamed_estimators_ \u001b[38;5;241m=\u001b[39m Bunch()\n\u001b[0;32m    221\u001b[0m est_fitted_idx \u001b[38;5;241m=\u001b[39m \u001b[38;5;241m0\u001b[39m\n",
      "File \u001b[1;32m~\\AppData\\Roaming\\Python\\Python313\\site-packages\\sklearn\\utils\\parallel.py:77\u001b[0m, in \u001b[0;36mParallel.__call__\u001b[1;34m(self, iterable)\u001b[0m\n\u001b[0;32m     72\u001b[0m config \u001b[38;5;241m=\u001b[39m get_config()\n\u001b[0;32m     73\u001b[0m iterable_with_config \u001b[38;5;241m=\u001b[39m (\n\u001b[0;32m     74\u001b[0m     (_with_config(delayed_func, config), args, kwargs)\n\u001b[0;32m     75\u001b[0m     \u001b[38;5;28;01mfor\u001b[39;00m delayed_func, args, kwargs \u001b[38;5;129;01min\u001b[39;00m iterable\n\u001b[0;32m     76\u001b[0m )\n\u001b[1;32m---> 77\u001b[0m \u001b[38;5;28;01mreturn\u001b[39;00m \u001b[38;5;28;43msuper\u001b[39;49m\u001b[43m(\u001b[49m\u001b[43m)\u001b[49m\u001b[38;5;241;43m.\u001b[39;49m\u001b[38;5;21;43m__call__\u001b[39;49m\u001b[43m(\u001b[49m\u001b[43miterable_with_config\u001b[49m\u001b[43m)\u001b[49m\n",
      "File \u001b[1;32m~\\AppData\\Roaming\\Python\\Python313\\site-packages\\joblib\\parallel.py:2007\u001b[0m, in \u001b[0;36mParallel.__call__\u001b[1;34m(self, iterable)\u001b[0m\n\u001b[0;32m   2001\u001b[0m \u001b[38;5;66;03m# The first item from the output is blank, but it makes the interpreter\u001b[39;00m\n\u001b[0;32m   2002\u001b[0m \u001b[38;5;66;03m# progress until it enters the Try/Except block of the generator and\u001b[39;00m\n\u001b[0;32m   2003\u001b[0m \u001b[38;5;66;03m# reaches the first `yield` statement. This starts the asynchronous\u001b[39;00m\n\u001b[0;32m   2004\u001b[0m \u001b[38;5;66;03m# dispatch of the tasks to the workers.\u001b[39;00m\n\u001b[0;32m   2005\u001b[0m \u001b[38;5;28mnext\u001b[39m(output)\n\u001b[1;32m-> 2007\u001b[0m \u001b[38;5;28;01mreturn\u001b[39;00m output \u001b[38;5;28;01mif\u001b[39;00m \u001b[38;5;28mself\u001b[39m\u001b[38;5;241m.\u001b[39mreturn_generator \u001b[38;5;28;01melse\u001b[39;00m \u001b[38;5;28;43mlist\u001b[39;49m\u001b[43m(\u001b[49m\u001b[43moutput\u001b[49m\u001b[43m)\u001b[49m\n",
      "File \u001b[1;32m~\\AppData\\Roaming\\Python\\Python313\\site-packages\\joblib\\parallel.py:1650\u001b[0m, in \u001b[0;36mParallel._get_outputs\u001b[1;34m(self, iterator, pre_dispatch)\u001b[0m\n\u001b[0;32m   1647\u001b[0m     \u001b[38;5;28;01myield\u001b[39;00m\n\u001b[0;32m   1649\u001b[0m     \u001b[38;5;28;01mwith\u001b[39;00m \u001b[38;5;28mself\u001b[39m\u001b[38;5;241m.\u001b[39m_backend\u001b[38;5;241m.\u001b[39mretrieval_context():\n\u001b[1;32m-> 1650\u001b[0m         \u001b[38;5;28;01myield from\u001b[39;00m \u001b[38;5;28mself\u001b[39m\u001b[38;5;241m.\u001b[39m_retrieve()\n\u001b[0;32m   1652\u001b[0m \u001b[38;5;28;01mexcept\u001b[39;00m \u001b[38;5;167;01mGeneratorExit\u001b[39;00m:\n\u001b[0;32m   1653\u001b[0m     \u001b[38;5;66;03m# The generator has been garbage collected before being fully\u001b[39;00m\n\u001b[0;32m   1654\u001b[0m     \u001b[38;5;66;03m# consumed. This aborts the remaining tasks if possible and warn\u001b[39;00m\n\u001b[0;32m   1655\u001b[0m     \u001b[38;5;66;03m# the user if necessary.\u001b[39;00m\n\u001b[0;32m   1656\u001b[0m     \u001b[38;5;28mself\u001b[39m\u001b[38;5;241m.\u001b[39m_exception \u001b[38;5;241m=\u001b[39m \u001b[38;5;28;01mTrue\u001b[39;00m\n",
      "File \u001b[1;32m~\\AppData\\Roaming\\Python\\Python313\\site-packages\\joblib\\parallel.py:1762\u001b[0m, in \u001b[0;36mParallel._retrieve\u001b[1;34m(self)\u001b[0m\n\u001b[0;32m   1757\u001b[0m \u001b[38;5;66;03m# If the next job is not ready for retrieval yet, we just wait for\u001b[39;00m\n\u001b[0;32m   1758\u001b[0m \u001b[38;5;66;03m# async callbacks to progress.\u001b[39;00m\n\u001b[0;32m   1759\u001b[0m \u001b[38;5;28;01mif\u001b[39;00m ((\u001b[38;5;28mlen\u001b[39m(\u001b[38;5;28mself\u001b[39m\u001b[38;5;241m.\u001b[39m_jobs) \u001b[38;5;241m==\u001b[39m \u001b[38;5;241m0\u001b[39m) \u001b[38;5;129;01mor\u001b[39;00m\n\u001b[0;32m   1760\u001b[0m     (\u001b[38;5;28mself\u001b[39m\u001b[38;5;241m.\u001b[39m_jobs[\u001b[38;5;241m0\u001b[39m]\u001b[38;5;241m.\u001b[39mget_status(\n\u001b[0;32m   1761\u001b[0m         timeout\u001b[38;5;241m=\u001b[39m\u001b[38;5;28mself\u001b[39m\u001b[38;5;241m.\u001b[39mtimeout) \u001b[38;5;241m==\u001b[39m TASK_PENDING)):\n\u001b[1;32m-> 1762\u001b[0m     \u001b[43mtime\u001b[49m\u001b[38;5;241;43m.\u001b[39;49m\u001b[43msleep\u001b[49m\u001b[43m(\u001b[49m\u001b[38;5;241;43m0.01\u001b[39;49m\u001b[43m)\u001b[49m\n\u001b[0;32m   1763\u001b[0m     \u001b[38;5;28;01mcontinue\u001b[39;00m\n\u001b[0;32m   1765\u001b[0m \u001b[38;5;66;03m# We need to be careful: the job list can be filling up as\u001b[39;00m\n\u001b[0;32m   1766\u001b[0m \u001b[38;5;66;03m# we empty it and Python list are not thread-safe by\u001b[39;00m\n\u001b[0;32m   1767\u001b[0m \u001b[38;5;66;03m# default hence the use of the lock\u001b[39;00m\n",
      "\u001b[1;31mKeyboardInterrupt\u001b[0m: "
     ]
    }
   ],
   "source": [
    "from sklearn.ensemble import StackingRegressor\n",
    "from sklearn.multioutput import MultiOutputRegressor\n",
    "\n",
    "seed = 42\n",
    "\n",
    "lr = LinearRegression()\n",
    "dt = DecisionTreeRegressor()#random_state=seed)\n",
    "xgb = XGBRegressor()#random_state=seed)\n",
    "rf = RandomForestRegressor()#random_state=seed)\n",
    "\n",
    "estimators = [\n",
    "    ('lr', lr),\n",
    "    ('dt', dt),\n",
    "    ('xgb', xgb),\n",
    "    ('rf', rf)\n",
    "]\n",
    "\n",
    "meta_model = LinearRegression()\n",
    "\n",
    "stacking_regressor = StackingRegressor(estimators=estimators,\n",
    "                                       final_estimator=meta_model,\n",
    "                                       cv=5,\n",
    "                                       n_jobs=-1)\n",
    "\n",
    "multi_output_regressor = MultiOutputRegressor(stacking_regressor)\n",
    "\n",
    "multi_output_regressor.fit(data_train_X, data_train_y)\n",
    "\n",
    "predictions_stacking = multi_output_regressor.predict(data_test_X)\n",
    "predictions_stacking = predictions_stacking.round(0)\n",
    "\n",
    "mse_stacking = mean_squared_error(data_test_y, predictions_stacking)\n",
    "mae_stacking = mean_absolute_error(data_test_y, predictions_stacking)\n",
    "r2_stacking = r2_score(data_test_y, predictions_stacking)\n",
    "\n",
    "print(f\"Mean Squared Error: {mse_stacking}, Mean Absolute Error: {mae_stacking}, R2 Score: {r2_stacking}\")"
   ]
  },
  {
   "cell_type": "markdown",
   "id": "4bdc6cc1",
   "metadata": {},
   "source": [
    "Weighted Average Ensemble"
   ]
  },
  {
   "cell_type": "code",
   "execution_count": 22,
   "id": "2d2dd8e7",
   "metadata": {},
   "outputs": [
    {
     "name": "stdout",
     "output_type": "stream",
     "text": [
      "Linear Regression:\n",
      "Mean Squared Error: 119428.05506141466, Mean Absolute Error: 96.8818297331639, R2 Score: 0.9025478952012914\n",
      "Random Forest:\n",
      "Mean Squared Error: 118831.54150783566, Mean Absolute Error: 45.345404489623036, R2 Score: 0.8290675274836977\n",
      "XGBoost:\n",
      "Mean Squared Error: 156936.90625, Mean Absolute Error: 49.464420318603516, R2 Score: 0.7158792614936829\n"
     ]
    }
   ],
   "source": [
    "print('Linear Regression:')\n",
    "lre = LinearRegression()\n",
    "lre.fit(train_X_lr, train_y_lr)\n",
    "predictions_lre = lre.predict(test_X)\n",
    "predictions_lre = predictions_lre.round(0)\n",
    "mse_lre = mean_squared_error(test_y, predictions_lre)\n",
    "mae_lre = mean_absolute_error(test_y, predictions_lre)\n",
    "r2_lre = r2_score(test_y, predictions_lre)\n",
    "print(f\"Mean Squared Error: {mse_lre}, Mean Absolute Error: {mae_lre}, R2 Score: {r2_lre}\")\n",
    "\n",
    "print('Random Forest:')\n",
    "rfe = RandomForestRegressor(random_state=42)\n",
    "rfe.fit(train_X_rf, train_y_rf)\n",
    "predictions_rfe = rfe.predict(test_X)\n",
    "predictions_rfe = predictions_rfe.round(0)\n",
    "mse_rfe = mean_squared_error(test_y, predictions_rfe)\n",
    "mae_rfe = mean_absolute_error(test_y, predictions_rfe)\n",
    "r2_rfe = r2_score(test_y, predictions_rfe)\n",
    "print(f\"Mean Squared Error: {mse_rfe}, Mean Absolute Error: {mae_rfe}, R2 Score: {r2_rfe}\")\n",
    "\n",
    "print('XGBoost:')\n",
    "xgbe = XGBRegressor(random_state=42)\n",
    "xgbe.fit(train_X_xgb, train_y_xgb)\n",
    "predictions_xgbe = xgbe.predict(test_X)\n",
    "predictions_xgbe = predictions_xgbe.round(0)\n",
    "mse_xgbe = mean_squared_error(test_y, predictions_xgbe)\n",
    "mae_xgbe = mean_absolute_error(test_y, predictions_xgbe)\n",
    "r2_xgbe = r2_score(test_y, predictions_xgbe)\n",
    "print(f\"Mean Squared Error: {mse_xgbe}, Mean Absolute Error: {mae_xgbe}, R2 Score: {r2_xgbe}\")"
   ]
  },
  {
   "cell_type": "code",
   "execution_count": 23,
   "id": "cca20039",
   "metadata": {},
   "outputs": [
    {
     "name": "stdout",
     "output_type": "stream",
     "text": [
      "Optimal Weights and Corresponding Models per Target:\n",
      "CC_Civil:\n",
      "  Linear Regression: 0.3333\n",
      "  XGBoost: 0.3333\n",
      "  Random Forest: 0.3333\n",
      "CC_Criminal:\n",
      "  Linear Regression: 0.6031\n",
      "  XGBoost: 0.2752\n",
      "  Random Forest: 0.1217\n",
      "CC_labor:\n",
      "  Linear Regression: 0.0984\n",
      "  XGBoost: 0.3866\n",
      "  Random Forest: 0.5149\n",
      "CC_criminal_labor:\n",
      "  Linear Regression: 0.7945\n",
      "  XGBoost: 0.2055\n",
      "  Random Forest: 0.0000\n",
      "CC_tutelar:\n",
      "  Linear Regression: 0.2088\n",
      "  XGBoost: 0.2527\n",
      "  Random Forest: 0.5385\n",
      "CC_militar:\n",
      "  Linear Regression: 0.5326\n",
      "  XGBoost: 0.0000\n",
      "  Random Forest: 0.4674\n"
     ]
    }
   ],
   "source": [
    "import numpy as np\n",
    "from scipy.optimize import minimize\n",
    "\n",
    "n_models = 3  # Number of models\n",
    "n_targets = 6  # Number of targets\n",
    "n_samples = test_y.shape[0]  # Number of samples in the test set\n",
    "\n",
    "predictions = np.array([predictions_lre, predictions_xgbe, predictions_rfe])\n",
    "y_val = test_y.values\n",
    "\n",
    "# Assume y_val and predictions are defined as before.\n",
    "optimal_weights_per_target = np.zeros((n_models, n_targets)) # 4 models, 6 targets\n",
    "\n",
    "def ensemble_mse_target(weights, predictions_target, y_true_target):\n",
    "    \"\"\"\n",
    "    Compute MSE for a single target variable.\n",
    "    \"\"\"\n",
    "    # Weighted prediction for one target: dot product of weights and model predictions.\n",
    "    ensemble_pred = np.dot(weights, predictions_target)  # predictions_target shape: (n_models, n_samples)\n",
    "    mse = np.mean((y_true_target - ensemble_pred) ** 2)\n",
    "    return mse\n",
    "\n",
    "for i in range(n_targets):  # Assuming 6 targets\n",
    "    # Extract predictions for target i: shape becomes (n_models, n_samples)\n",
    "    predictions_i = predictions[:, :, i]\n",
    "    y_true_i = y_val[:, i]\n",
    "    \n",
    "    constraints = ({'type': 'eq', 'fun': lambda w: np.sum(w) - 1})\n",
    "    bounds = [(0, 1)] * n_models\n",
    "    initial_weights = np.full(n_models, 1.0 / n_models)\n",
    "    \n",
    "    result = minimize(ensemble_mse_target, initial_weights, args=(predictions_i, y_true_i),\n",
    "                      bounds=bounds, constraints=constraints)\n",
    "    \n",
    "    optimal_weights_per_target[:, i] = result.x\n",
    "\n",
    "model_names = ['Linear Regression','XGBoost', 'Random Forest']\n",
    "print(\"Optimal Weights and Corresponding Models per Target:\")\n",
    "for i, target in enumerate(target_specific):\n",
    "    print(f\"{target}:\")\n",
    "    for weight, model in zip(optimal_weights_per_target[:, i], model_names):\n",
    "        print(f\"  {model}: {weight:.4f}\")\n",
    "\n",
    "# Compute ensemble predictions for each target using the corresponding weights\n",
    "ensemble_pred_separate = np.zeros((n_samples, n_targets))\n",
    "for i in range(n_targets):\n",
    "    ensemble_pred_separate[:, i] = np.dot(optimal_weights_per_target[:, i], predictions[:, :, i])\n"
   ]
  },
  {
   "cell_type": "code",
   "execution_count": 24,
   "id": "b610348a",
   "metadata": {},
   "outputs": [
    {
     "name": "stdout",
     "output_type": "stream",
     "text": [
      "Mean Squared Error: 83175.4603505669, Mean Absolute Error: 53.903178006522865, R2 Score: 0.9405220533711846\n"
     ]
    }
   ],
   "source": [
    "ensemble_mse = mean_squared_error(y_val, ensemble_pred_separate)\n",
    "ensemble_mae = mean_absolute_error(y_val, ensemble_pred_separate)\n",
    "ensemble_r2 = r2_score(y_val, ensemble_pred_separate)\n",
    "\n",
    "print(f\"Mean Squared Error: {ensemble_mse}, Mean Absolute Error: {ensemble_mae}, R2 Score: {ensemble_r2}\")"
   ]
  },
  {
   "cell_type": "code",
   "execution_count": 34,
   "id": "1ee3d135",
   "metadata": {},
   "outputs": [
    {
     "name": "stdout",
     "output_type": "stream",
     "text": [
      "Mean Squared Error: 116259.46293943243, Mean Absolute Error: 39.79500211774671, R2 Score: 0.9051820007427479\n",
      "Mean Squared Error: 103286.13002964847, Mean Absolute Error: 38.64464210080474, R2 Score: 0.9106146356425548\n",
      "Mean Squared Error: 112395.8958068615, Mean Absolute Error: 39.664548919949176, R2 Score: 0.9097691849497639\n",
      "Mean Squared Error: 114282.16539601861, Mean Absolute Error: 39.40724269377383, R2 Score: 0.9069180521948127\n",
      "Mean Squared Error: 105342.02117746715, Mean Absolute Error: 38.56077933079204, R2 Score: 0.9101732744556772\n",
      "Mean Squared Error: 106317.28759000421, Mean Absolute Error: 39.302414231257934, R2 Score: 0.9036262974177296\n",
      "Mean Squared Error: 100831.59085133417, Mean Absolute Error: 38.49047013977129, R2 Score: 0.9070415002184289\n",
      "Mean Squared Error: 104960.95235069886, Mean Absolute Error: 38.71812791190174, R2 Score: 0.9073506505111171\n",
      "Mean Squared Error: 109341.61562897079, Mean Absolute Error: 38.71685726387125, R2 Score: 0.9065626985094976\n",
      "Mean Squared Error: 102795.98623464633, Mean Absolute Error: 38.592757306226176, R2 Score: 0.9099199424504757\n"
     ]
    }
   ],
   "source": [
    "for _ in range(10):\n",
    "\n",
    "    rfr = RandomForestRegressor()\n",
    "    rfr.fit(train_X, train_y)\n",
    "    predictions_rfr = rfr.predict(test_X)\n",
    "    predictions_rfr = predictions_rfr.round(0)\n",
    "\n",
    "    mse_rfr = mean_squared_error(test_y, predictions_rfr)\n",
    "    mae_rfr = mean_absolute_error(test_y, predictions_rfr)\n",
    "    r2_rfr = r2_score(test_y, predictions_rfr)\n",
    "    print(f\"Mean Squared Error: {mse_rfr}, Mean Absolute Error: {mae_rfr}, R2 Score: {r2_rfr}\")"
   ]
  }
 ],
 "metadata": {
  "kernelspec": {
   "display_name": "Python 3",
   "language": "python",
   "name": "python3"
  },
  "language_info": {
   "codemirror_mode": {
    "name": "ipython",
    "version": 3
   },
   "file_extension": ".py",
   "mimetype": "text/x-python",
   "name": "python",
   "nbconvert_exporter": "python",
   "pygments_lexer": "ipython3",
   "version": "3.13.2"
  }
 },
 "nbformat": 4,
 "nbformat_minor": 5
}
